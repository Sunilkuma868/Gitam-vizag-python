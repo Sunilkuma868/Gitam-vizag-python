{
 "cells": [
  {
   "cell_type": "code",
   "execution_count": 8,
   "metadata": {},
   "outputs": [
    {
     "name": "stdout",
     "output_type": "stream",
     "text": [
      "PHFTDN"
     ]
    }
   ],
   "source": [
    "# function to print upper case characters \n",
    "# Example : PyThon -- PT\n",
    "\n",
    "# Ascii\n",
    "# A - Z : 65 - 90\n",
    "# a - z : 97 - 122\n",
    "# 0 - 9 : 48 - 57\n",
    "# space : 32\n",
    "\n",
    "def printupper(s):\n",
    "    for i in range(len(s)):\n",
    "        if ord(s[i]) >= 65 and ord(s[i]) <= 90:\n",
    "            print(s[i],end='')\n",
    "    return\n",
    "printupper('PythHohuFTDfuN')\n",
    "\n"
   ]
  },
  {
   "cell_type": "code",
   "execution_count": 11,
   "metadata": {},
   "outputs": [
    {
     "data": {
      "text/plain": [
       "True"
      ]
     },
     "execution_count": 11,
     "metadata": {},
     "output_type": "execute_result"
    }
   ],
   "source": [
    "# check if string is a palindrome\n",
    "def pal(s):\n",
    "    if s == s[-1 :: -1]:\n",
    "        return True\n",
    "    else:\n",
    "        return False\n",
    "pal('papapap')    \n",
    "    "
   ]
  },
  {
   "cell_type": "code",
   "execution_count": 2,
   "metadata": {},
   "outputs": [
    {
     "data": {
      "text/plain": [
       "'sunil'"
      ]
     },
     "execution_count": 2,
     "metadata": {},
     "output_type": "execute_result"
    }
   ],
   "source": [
    "# reverse of a string\n",
    "\n",
    "def rev(s):\n",
    "    return s[-1 :: -1]\n",
    "rev('linus')"
   ]
  },
  {
   "cell_type": "code",
   "execution_count": null,
   "metadata": {},
   "outputs": [],
   "source": [
    "ord('k')   # prints ASCII value of a character"
   ]
  },
  {
   "cell_type": "code",
   "execution_count": 20,
   "metadata": {},
   "outputs": [
    {
     "name": "stdout",
     "output_type": "stream",
     "text": [
      "pytHON\n",
      " :Samecount\n"
     ]
    }
   ],
   "source": [
    "# Function to return the output as \"same count\" or \"programing\"\n",
    "# Samecount -- Lower and Upper chars have same count\n",
    "# Programing -- count of Lower and Upper case is not same\n",
    " \n",
    "# example #1 : python  --- 3 P T O    \n",
    "#                      --- 3 y h n\n",
    "#Output : Samecount  \n",
    "# Example #2 : PythoN --- 2 P N\n",
    "#                     --- 4 y t h o \n",
    "# output  : programing\n",
    "\n",
    "def cal(s):\n",
    "    at=0\n",
    "    count=0\n",
    "    for i in range(len(s)):\n",
    "        if ord(s[i]) >= 60 and ord(s[i])<=90:\n",
    "            print(s[i],end='')\n",
    "            at=at+1\n",
    "        elif ord(s[i]) >= 90 and ord(s[i])<= 122:\n",
    "            print(s[i],end='')\n",
    "            count=count+1\n",
    "    if at == count:\n",
    "        print('\\n :Samecount')\n",
    "    else:\n",
    "        print('\\n: Programing')\n",
    "    return\n",
    "cal('pytHON')\n",
    "\n",
    "\n",
    "\n",
    "\n",
    "\n"
   ]
  },
  {
   "cell_type": "code",
   "execution_count": 23,
   "metadata": {},
   "outputs": [
    {
     "name": "stdout",
     "output_type": "stream",
     "text": [
      "P\n",
      "6\n"
     ]
    },
    {
     "data": {
      "text/plain": [
       "'Pyt'"
      ]
     },
     "execution_count": 23,
     "metadata": {},
     "output_type": "execute_result"
    }
   ],
   "source": [
    "s1='Python'\n",
    "print(s1[0])\n",
    "print(len(s1))\n",
    "s1[0:3]"
   ]
  },
  {
   "cell_type": "code",
   "execution_count": 25,
   "metadata": {},
   "outputs": [
    {
     "name": "stdout",
     "output_type": "stream",
     "text": [
      "2\n",
      "1\n",
      "8\n",
      "7\n",
      "2\n",
      "7\n",
      "8\n",
      "7\n",
      "8\n",
      "3\n",
      "4\n",
      "5\n",
      "8\n",
      "3\n",
      "4\n",
      "5\n",
      "8\n",
      "7\n",
      "4\n",
      "3\n",
      "7\n",
      "2\n",
      "9\n",
      "4\n",
      "1\n",
      "2\n",
      "9\n"
     ]
    }
   ],
   "source": [
    "# extrat digits from string\n",
    "\n",
    "\n",
    "def filter(s):\n",
    "    for i in range(len(s)):\n",
    "        if ord(s[i]) >= 48 and ord(s[i]) <= 57:\n",
    "            print(s[i])\n",
    "    return\n",
    "filter('bsjdhjwqwe2187et27gwj87834583u45yt87437294129hiheiyefbjewgfeu')"
   ]
  },
  {
   "cell_type": "code",
   "execution_count": 27,
   "metadata": {},
   "outputs": [
    {
     "name": "stdout",
     "output_type": "stream",
     "text": [
      "21\n"
     ]
    }
   ],
   "source": [
    "def digiadd(s):\n",
    "    a=0\n",
    "    for i in range(len(s)):\n",
    "        if ord(s[i]) >= 48 and ord(s[i]) <= 57:\n",
    "             a=a+int(s[i])\n",
    "    print(a)\n",
    "    return\n",
    "digiadd('jfje1nnkjnffk2ffkjnk3nfkjdfkj4nkfjsn5ndkjdn6')"
   ]
  },
  {
   "cell_type": "code",
   "execution_count": 29,
   "metadata": {},
   "outputs": [
    {
     "name": "stdout",
     "output_type": "stream",
     "text": [
      "PYTHON"
     ]
    }
   ],
   "source": [
    "# print 2nd word as upper  case\n",
    "def upper(s):\n",
    "    ct=0\n",
    "    for i in range(len(s)):\n",
    "        if ord(s[i]) == 32:\n",
    "            ct +=1\n",
    "        if ct==1:\n",
    "            if ord(s[i]) >= 65 and ord(s[i]) <= 90:\n",
    "                print(s[i],end='')\n",
    "            elif ord(s[i]) >= 97 and ord(s[i]) <= 122:\n",
    "                print(chr(ord(s[i])-32),end='')\n",
    "        if ct ==2:\n",
    "            break\n",
    "    return\n",
    "upper('Learn Python Strings')\n",
    "            "
   ]
  },
  {
   "cell_type": "code",
   "execution_count": 6,
   "metadata": {},
   "outputs": [
    {
     "name": "stdout",
     "output_type": "stream",
     "text": [
      "PYTHON"
     ]
    }
   ],
   "source": [
    "def upper(s):\n",
    "    ct=0\n",
    "    for i in range(len(s)):\n",
    "        if ord(s[i]) == 32:\n",
    "            ct +=1\n",
    "        if ct==1:\n",
    "            if ord(s[i]) >= 97 and ord(s[i]) <= 122:\n",
    "                print(chr(ord(s[i])-32),end='')\n",
    "        if ct ==2:\n",
    "            break\n",
    "    return\n",
    "upper('Learn python Strings')\n",
    "            "
   ]
  },
  {
   "cell_type": "markdown",
   "metadata": {},
   "source": [
    "# List\n",
    "  - one of the Data structure in python\n",
    "  - Data structure means to store ,sort and search options\n",
    "  - it's one common data structure  in python,the items of list separated by comma and enclosed in square braackets[].\n"
   ]
  },
  {
   "cell_type": "code",
   "execution_count": 8,
   "metadata": {},
   "outputs": [
    {
     "name": "stdout",
     "output_type": "stream",
     "text": [
      "[1, 2, 3, 4, 5]\n",
      "1\n",
      "2\n",
      "5\n",
      "4\n"
     ]
    }
   ],
   "source": [
    "li =[1,2,3,4,5]\n",
    "\n",
    "print(li) # prints all data\n",
    "print(li[0]) # access the first item of the list\n",
    "print(li[1]) # access the second item of the list\n",
    "print(li[-1]) # access the last item\n",
    "print(li[-2]) # access the last second item in string\n"
   ]
  },
  {
   "cell_type": "code",
   "execution_count": 11,
   "metadata": {},
   "outputs": [
    {
     "name": "stdout",
     "output_type": "stream",
     "text": [
      "['Gitam', 12, 34, 56, 'boy']\n",
      "['Gitam', 12, 'mabbu', 56, 'boy']\n"
     ]
    }
   ],
   "source": [
    "li = [\"Gitam\",12,34,56,\"boy\"]\n",
    "print(li)\n",
    "# updating list value\n",
    "li[2] = 'mabbu'\n",
    "print(li)"
   ]
  },
  {
   "cell_type": "code",
   "execution_count": 18,
   "metadata": {},
   "outputs": [
    {
     "name": "stdout",
     "output_type": "stream",
     "text": [
      "['Gitam', 56, 'boy']\n"
     ]
    }
   ],
   "source": [
    "#del the item\n",
    "del li[1]\n",
    "print(li)"
   ]
  },
  {
   "cell_type": "code",
   "execution_count": 16,
   "metadata": {},
   "outputs": [
    {
     "name": "stdout",
     "output_type": "stream",
     "text": [
      "True\n",
      "False\n",
      "5\n",
      "[1, 2, 3, 4, 5, 1, 2, 3, 4, 5, 1, 2, 3, 4, 5, 1, 2, 3, 4, 5, 1, 2, 3, 4, 5]\n",
      "True\n"
     ]
    }
   ],
   "source": [
    "## basic list operations\n",
    "li = [1,2,3,4,5]\n",
    "# to know certain item present in list or not\n",
    "print(4 in li)\n",
    "print(6 in li)\n",
    "# length\n",
    "print(len(li))\n",
    "# list repitation\n",
    "print(li *5)\n",
    "#find element in list\n",
    "print(2 in li)\n",
    "\n"
   ]
  },
  {
   "cell_type": "code",
   "execution_count": 20,
   "metadata": {},
   "outputs": [
    {
     "name": "stdout",
     "output_type": "stream",
     "text": [
      "45\n",
      "1\n",
      "64\n",
      "10\n"
     ]
    }
   ],
   "source": [
    "# basic list functions\n",
    "li = [1,2,3,45,6,7]\n",
    "print(max(li))#max no in list\n",
    "print(min(li))#min no in list\n",
    "print(sum(li))#sum of all list items\n",
    "print(sum(li) // len(li)) #avg of list items"
   ]
  },
  {
   "cell_type": "code",
   "execution_count": 10,
   "metadata": {},
   "outputs": [
    {
     "name": "stdout",
     "output_type": "stream",
     "text": [
      "[1, 9, 16, 25, 5, 9]\n"
     ]
    }
   ],
   "source": [
    "#methodsof List\n",
    "li = [1,9,16,25,5]\n",
    "\n",
    "li.append(29)\n",
    "li.insert(2,56)\n",
    "li.append(9)\n",
    "li.count(9)\n",
    "li.index(56)\n",
    "print(li)"
   ]
  },
  {
   "cell_type": "code",
   "execution_count": 11,
   "metadata": {},
   "outputs": [
    {
     "data": {
      "text/plain": [
       "5"
      ]
     },
     "execution_count": 11,
     "metadata": {},
     "output_type": "execute_result"
    }
   ],
   "source": [
    "# method of list oject\n",
    "li.sort() # sorts in acsending order\n",
    "li.pop()# last index value\n",
    "li.pop(1)"
   ]
  },
  {
   "cell_type": "code",
   "execution_count": 16,
   "metadata": {},
   "outputs": [
    {
     "name": "stdout",
     "output_type": "stream",
     "text": [
      "45\n",
      "19\n"
     ]
    }
   ],
   "source": [
    "# function to reurn the large number from the list\n",
    "def largenumber(li):\n",
    "    li.sort()\n",
    "    return li[-1]\n",
    "def genericlarge(li,n):\n",
    "    li.sort()\n",
    "    return li[-n]\n",
    "li = [19,1,25,6,9,45,22]\n",
    "print(largenumber(li))\n",
    "print(genericlarge(li,4))"
   ]
  },
  {
   "cell_type": "code",
   "execution_count": 17,
   "metadata": {},
   "outputs": [
    {
     "name": "stdout",
     "output_type": "stream",
     "text": [
      "1\n",
      "9\n"
     ]
    }
   ],
   "source": [
    "# FUN TO FIND LEAST AND GENRIC LAST NUMBER FROM THE LIST\n",
    "def leastnum(li):\n",
    "    li.sort()\n",
    "    return li[0]\n",
    "def genleastnum(li,n):\n",
    "    li.sort()\n",
    "    return li[n-1]\n",
    "li = [19,1,25,6,9,45,22]\n",
    "print(leastnum(li))\n",
    "print(genleastnum(li,3))\n"
   ]
  },
  {
   "cell_type": "markdown",
   "metadata": {},
   "source": [
    "### File Handling in python\n",
    "  - file  - Document which contains some information and residdes on permanent\n",
    "  - Different types of file -- .txt..pdf,,doc,.ppf and etc..\n",
    "  - input - keyboard\n",
    "  - output - file system"
   ]
  },
  {
   "cell_type": "code",
   "execution_count": 23,
   "metadata": {},
   "outputs": [
    {
     "name": "stdout",
     "output_type": "stream",
     "text": [
      "file is created and data has entered\n"
     ]
    }
   ],
   "source": [
    "# Funtion to creat file and write some data to the file\n",
    "\n",
    "def createfile(filename):\n",
    "    f= open(filename,'w')\n",
    "    for i in range(10):\n",
    "        f.write('this is %d line \\n' % i)\n",
    "    print('file is created and data has entered')\n",
    "    return\n",
    "createfile('data.txt')"
   ]
  },
  {
   "cell_type": "code",
   "execution_count": 24,
   "metadata": {},
   "outputs": [
    {
     "data": {
      "text/plain": [
       "'C:\\\\Users\\\\sunil\\\\Desktop\\\\Problem Solving an programing'"
      ]
     },
     "execution_count": 24,
     "metadata": {},
     "output_type": "execute_result"
    }
   ],
   "source": [
    "pwd"
   ]
  },
  {
   "cell_type": "code",
   "execution_count": null,
   "metadata": {},
   "outputs": [],
   "source": [
    "def createfile(filename):\n",
    "    f=open(filename,'w')\n",
    "    f.write('git vijayaha')"
   ]
  },
  {
   "cell_type": "code",
   "execution_count": 25,
   "metadata": {},
   "outputs": [
    {
     "name": "stdout",
     "output_type": "stream",
     "text": [
      "programing complted successfully\n"
     ]
    }
   ],
   "source": [
    "def appendmode(filename):\n",
    "    f=open(filename,'a')\n",
    "    f.write('Gitam Vizag\\n')\n",
    "    f.write('python programming\\n')\n",
    "    print('programing complted successfully')\n",
    "    return\n",
    "appendmode('data.txt')\n",
    "    "
   ]
  },
  {
   "cell_type": "code",
   "execution_count": 26,
   "metadata": {},
   "outputs": [
    {
     "data": {
      "text/plain": [
       "'C:\\\\Users\\\\sunil\\\\Desktop\\\\Problem Solving an programing'"
      ]
     },
     "execution_count": 26,
     "metadata": {},
     "output_type": "execute_result"
    }
   ],
   "source": [
    "pwd"
   ]
  },
  {
   "cell_type": "code",
   "execution_count": 28,
   "metadata": {},
   "outputs": [
    {
     "name": "stdout",
     "output_type": "stream",
     "text": [
      "this is 0 line \n",
      "this is 1 line \n",
      "this is 2 line \n",
      "this is 3 line \n",
      "this is 4 line \n",
      "this is 5 line \n",
      "this is 6 line \n",
      "this is 7 line \n",
      "this is 8 line \n",
      "this is 9 line \n",
      "Gitam Vizag\n",
      "python programming\n",
      "\n"
     ]
    }
   ],
   "source": [
    "# function to read the file\n",
    "\n",
    "def readfiledata(filename):\n",
    "    f=open(filename,'r')\n",
    "    if f.mode == 'r':\n",
    "        a = f.read()\n",
    "        print(a)\n",
    "    f.close()\n",
    "    return\n",
    "readfiledata('data.txt')\n",
    "    "
   ]
  },
  {
   "cell_type": "code",
   "execution_count": 1,
   "metadata": {},
   "outputs": [
    {
     "name": "stdout",
     "output_type": "stream",
     "text": [
      "['Python', 'Programming']\n",
      "['P', 'y', 't', 'h', 'o', 'n', ' ', 'P', 'r', 'o', 'g', 'r', 'a', 'm', 'm', 'i', 'n', 'g']\n"
     ]
    }
   ],
   "source": [
    "# analysis on th efile -- word count,char count,digit count\n",
    "s1 = \"Python Programming\"\n",
    "print(s1.split())\n",
    "print(list(s1))"
   ]
  },
  {
   "cell_type": "code",
   "execution_count": 35,
   "metadata": {},
   "outputs": [
    {
     "data": {
      "text/plain": [
       "44"
      ]
     },
     "execution_count": 35,
     "metadata": {},
     "output_type": "execute_result"
    }
   ],
   "source": [
    "# word count  -- input file\n",
    "def wordCount(filename):\n",
    "    with open(filename,'r')as f:\n",
    "        if f.mode == 'r':\n",
    "            a=f.read()\n",
    "            li=a.split()\n",
    "    return len(li)\n",
    "wordCount('data.txt')"
   ]
  },
  {
   "cell_type": "code",
   "execution_count": 39,
   "metadata": {},
   "outputs": [
    {
     "name": "stdout",
     "output_type": "stream",
     "text": [
      "enter a wordthis\n"
     ]
    },
    {
     "data": {
      "text/plain": [
       "10"
      ]
     },
     "execution_count": 39,
     "metadata": {},
     "output_type": "execute_result"
    }
   ],
   "source": [
    "def word(filename):\n",
    "    c=0\n",
    "    f=open(filename,'r')\n",
    "    if f.mode == 'r':\n",
    "        s=input('enter a word')\n",
    "        a=f.read()\n",
    "        li=a.split()\n",
    "    for i in range(len(li)):\n",
    "        if(li[i]==s):\n",
    "            c=c+1\n",
    "    return (c)\n",
    "word('data.txt')\n",
    "    \n",
    "    "
   ]
  },
  {
   "cell_type": "code",
   "execution_count": 42,
   "metadata": {},
   "outputs": [
    {
     "ename": "NameError",
     "evalue": "name 'this' is not defined",
     "output_type": "error",
     "traceback": [
      "\u001b[1;31m---------------------------------------------------------------------------\u001b[0m",
      "\u001b[1;31mNameError\u001b[0m                                 Traceback (most recent call last)",
      "\u001b[1;32m<ipython-input-42-0b312fa2b1d3>\u001b[0m in \u001b[0;36m<module>\u001b[1;34m\u001b[0m\n\u001b[0;32m      5\u001b[0m             \u001b[0mli\u001b[0m\u001b[1;33m=\u001b[0m\u001b[0ma\u001b[0m\u001b[1;33m.\u001b[0m\u001b[0msplit\u001b[0m\u001b[1;33m(\u001b[0m\u001b[1;33m)\u001b[0m\u001b[1;33m\u001b[0m\u001b[1;33m\u001b[0m\u001b[0m\n\u001b[0;32m      6\u001b[0m     \u001b[1;32mreturn\u001b[0m \u001b[0mli\u001b[0m\u001b[1;33m.\u001b[0m\u001b[0mcount\u001b[0m\u001b[1;33m(\u001b[0m\u001b[0mword\u001b[0m\u001b[1;33m)\u001b[0m\u001b[1;33m\u001b[0m\u001b[1;33m\u001b[0m\u001b[0m\n\u001b[1;32m----> 7\u001b[1;33m \u001b[0mwordCount\u001b[0m\u001b[1;33m(\u001b[0m\u001b[1;34m'data.txt'\u001b[0m\u001b[1;33m,\u001b[0m\u001b[0mthis\u001b[0m\u001b[1;33m)\u001b[0m\u001b[1;33m\u001b[0m\u001b[1;33m\u001b[0m\u001b[0m\n\u001b[0m\u001b[0;32m      8\u001b[0m \u001b[1;33m\u001b[0m\u001b[0m\n",
      "\u001b[1;31mNameError\u001b[0m: name 'this' is not defined"
     ]
    }
   ],
   "source": [
    "def wordCount(filname,word):\n",
    "    with open(filname,'r')as f:\n",
    "        if f.mode == 'r':\n",
    "            a=f.read()\n",
    "            li=a.split()\n",
    "    return li.count(word)\n",
    "wordCount('data.txt',this)\n",
    "        "
   ]
  },
  {
   "cell_type": "code",
   "execution_count": 43,
   "metadata": {},
   "outputs": [
    {
     "data": {
      "text/plain": [
       "191"
      ]
     },
     "execution_count": 43,
     "metadata": {},
     "output_type": "execute_result"
    }
   ],
   "source": [
    "# function to find the character count from the input file\n",
    "\n",
    "\n",
    "def charcount(filename):\n",
    "    with open(filename,'r')as f:\n",
    "        if f.mode == 'r':\n",
    "            a = f.read()\n",
    "            li = list(a)\n",
    "    return len(li)\n",
    "charcount('data.txt')"
   ]
  },
  {
   "cell_type": "code",
   "execution_count": 45,
   "metadata": {},
   "outputs": [
    {
     "data": {
      "text/plain": [
       "13"
      ]
     },
     "execution_count": 45,
     "metadata": {},
     "output_type": "execute_result"
    }
   ],
   "source": [
    "# fnd no of lines or rows in the given input   stream\n",
    "\n",
    "def findlinecount(filename):\n",
    "    with open(filename,'r')as f:\n",
    "        if f.mode =='r':\n",
    "            a = f.read()\n",
    "            li = a.split('\\n')\n",
    "    return len(li)\n",
    "findlinecount('data.txt')"
   ]
  },
  {
   "cell_type": "code",
   "execution_count": 48,
   "metadata": {},
   "outputs": [
    {
     "data": {
      "text/plain": [
       "'uppercase : 2 lowercase : 125 digit : 0'"
      ]
     },
     "execution_count": 48,
     "metadata": {},
     "output_type": "execute_result"
    }
   ],
   "source": [
    "# function to find the upper and lower case character\n",
    "#from the input stream\n",
    "def casecount(filename):\n",
    "    cntupper = 0\n",
    "    cntlower = 0\n",
    "    cntdigit = 0\n",
    "    with open(filename,'r')as f:\n",
    "        if f.mode == 'r':\n",
    "            a = f.read()\n",
    "            li = list(a)\n",
    "    for i in range(len(li)):\n",
    "        if ord(li[i]) >= 65 and  ord(li[i]) <= 90:\n",
    "            cntupper +=1\n",
    "        elif ord(li[i]) >= 97 and ord(li[i]) <= 122:\n",
    "            cntlower +=1\n",
    "            output = 'uppercase : {0} lowercase : {1} digit : {2}'.format(cntupper,cntlower,cntdigit)\n",
    "    return output\n",
    "casecount('data.txt')"
   ]
  },
  {
   "cell_type": "markdown",
   "metadata": {},
   "source": [
    "###### delete contact"
   ]
  },
  {
   "cell_type": "code",
   "execution_count": 4,
   "metadata": {},
   "outputs": [
    {
     "ename": "NameError",
     "evalue": "name 'contacts' is not defined",
     "output_type": "error",
     "traceback": [
      "\u001b[1;31m---------------------------------------------------------------------------\u001b[0m",
      "\u001b[1;31mNameError\u001b[0m                                 Traceback (most recent call last)",
      "\u001b[1;32m<ipython-input-4-c477611b8908>\u001b[0m in \u001b[0;36m<module>\u001b[1;34m\u001b[0m\n\u001b[0;32m      5\u001b[0m     \u001b[1;32melse\u001b[0m\u001b[1;33m:\u001b[0m\u001b[1;33m\u001b[0m\u001b[1;33m\u001b[0m\u001b[0m\n\u001b[0;32m      6\u001b[0m         \u001b[0mprint\u001b[0m\u001b[1;33m(\u001b[0m\u001b[0mname\u001b[0m\u001b[1;33m,\u001b[0m\u001b[1;34m'ledu bro'\u001b[0m\u001b[1;33m)\u001b[0m\u001b[1;33m\u001b[0m\u001b[1;33m\u001b[0m\u001b[0m\n\u001b[1;32m----> 7\u001b[1;33m \u001b[0mdeletecontact\u001b[0m\u001b[1;33m(\u001b[0m\u001b[1;34m'hgsayud'\u001b[0m\u001b[1;33m)\u001b[0m\u001b[1;33m\u001b[0m\u001b[1;33m\u001b[0m\u001b[0m\n\u001b[0m",
      "\u001b[1;32m<ipython-input-4-c477611b8908>\u001b[0m in \u001b[0;36mdeletecontact\u001b[1;34m(name)\u001b[0m\n\u001b[0;32m      1\u001b[0m \u001b[1;32mdef\u001b[0m \u001b[0mdeletecontact\u001b[0m\u001b[1;33m(\u001b[0m\u001b[0mname\u001b[0m\u001b[1;33m)\u001b[0m\u001b[1;33m:\u001b[0m\u001b[1;33m\u001b[0m\u001b[1;33m\u001b[0m\u001b[0m\n\u001b[1;32m----> 2\u001b[1;33m     \u001b[1;32mif\u001b[0m \u001b[0mname\u001b[0m \u001b[1;32min\u001b[0m \u001b[0mcontacts\u001b[0m\u001b[1;33m:\u001b[0m\u001b[1;33m\u001b[0m\u001b[1;33m\u001b[0m\u001b[0m\n\u001b[0m\u001b[0;32m      3\u001b[0m         \u001b[1;32mdel\u001b[0m \u001b[0mcontacts\u001b[0m\u001b[1;33m[\u001b[0m\u001b[0mname\u001b[0m\u001b[1;33m]\u001b[0m\u001b[1;33m\u001b[0m\u001b[1;33m\u001b[0m\u001b[0m\n\u001b[0;32m      4\u001b[0m         \u001b[0mprint\u001b[0m\u001b[1;33m(\u001b[0m\u001b[0mname\u001b[0m\u001b[1;33m,\u001b[0m\u001b[1;34m'deleted bhe'\u001b[0m\u001b[1;33m)\u001b[0m\u001b[1;33m\u001b[0m\u001b[1;33m\u001b[0m\u001b[0m\n\u001b[0;32m      5\u001b[0m     \u001b[1;32melse\u001b[0m\u001b[1;33m:\u001b[0m\u001b[1;33m\u001b[0m\u001b[1;33m\u001b[0m\u001b[0m\n",
      "\u001b[1;31mNameError\u001b[0m: name 'contacts' is not defined"
     ]
    }
   ],
   "source": []
  },
  {
   "cell_type": "code",
   "execution_count": null,
   "metadata": {},
   "outputs": [],
   "source": []
  },
  {
   "cell_type": "code",
   "execution_count": null,
   "metadata": {},
   "outputs": [],
   "source": []
  }
 ],
 "metadata": {
  "kernelspec": {
   "display_name": "Python 3",
   "language": "python",
   "name": "python3"
  },
  "language_info": {
   "codemirror_mode": {
    "name": "ipython",
    "version": 3
   },
   "file_extension": ".py",
   "mimetype": "text/x-python",
   "name": "python",
   "nbconvert_exporter": "python",
   "pygments_lexer": "ipython3",
   "version": "3.7.3"
  }
 },
 "nbformat": 4,
 "nbformat_minor": 2
}
