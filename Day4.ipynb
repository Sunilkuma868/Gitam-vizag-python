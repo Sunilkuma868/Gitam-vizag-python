{
 "cells": [
  {
   "cell_type": "markdown",
   "metadata": {},
   "source": [
    "# String functions\n",
    "  - upper() : converts input string into uppercase characters.\n",
    "  - lower() : converts input string into lowercse characters."
   ]
  },
  {
   "cell_type": "code",
   "execution_count": 1,
   "metadata": {},
   "outputs": [
    {
     "name": "stdout",
     "output_type": "stream",
     "text": [
      "PYTHON\n",
      "python\n"
     ]
    }
   ],
   "source": [
    "s = 'Python'\n",
    "print(s.upper())\n",
    "print(s.lower())"
   ]
  },
  {
   "cell_type": "markdown",
   "metadata": {},
   "source": [
    "### String Boolean Functions\n",
    " -True or False\n",
    " - islower() - true if the string have all chracters lower case\n",
    " - isupper() - true if the string have all characters upper case\n",
    " - istitle() - True if the string in tile case\n",
    " - isnumeric() - True if the string numeric\n",
    " - isalpha() - True if the string has onlu alphabets\n",
    " - isspace() - True if the string has space"
   ]
  },
  {
   "cell_type": "code",
   "execution_count": null,
   "metadata": {},
   "outputs": [],
   "source": []
  },
  {
   "cell_type": "code",
   "execution_count": null,
   "metadata": {},
   "outputs": [],
   "source": []
  },
  {
   "cell_type": "code",
   "execution_count": 2,
   "metadata": {},
   "outputs": [
    {
     "name": "stdout",
     "output_type": "stream",
     "text": [
      "False\n"
     ]
    }
   ],
   "source": [
    "s1 = 'Python programming'\n",
    "print(s1.istitle())"
   ]
  },
  {
   "cell_type": "code",
   "execution_count": 3,
   "metadata": {},
   "outputs": [
    {
     "name": "stdout",
     "output_type": "stream",
     "text": [
      "True\n",
      "False\n"
     ]
    }
   ],
   "source": [
    "s1 = \"123456\"\n",
    "s2 = \"Py123\"\n",
    "print(s1.isnumeric())\n",
    "print(s2.isnumeric())"
   ]
  },
  {
   "cell_type": "code",
   "execution_count": 4,
   "metadata": {},
   "outputs": [
    {
     "name": "stdout",
     "output_type": "stream",
     "text": [
      "True\n",
      "False\n"
     ]
    }
   ],
   "source": [
    "s1= \"udyfvyue\"\n",
    "s2 = \"1232bgdyd\"\n",
    "print(s1.isalpha())\n",
    "print(s2.isalpha())"
   ]
  },
  {
   "cell_type": "code",
   "execution_count": 5,
   "metadata": {},
   "outputs": [
    {
     "name": "stdout",
     "output_type": "stream",
     "text": [
      "True\n",
      "False\n"
     ]
    }
   ],
   "source": [
    "s1 = \"   \"\n",
    "s2 = \"hvjhssju iuhi\"\n",
    "print(s1.isspace())\n",
    "print(s2.isspace())"
   ]
  },
  {
   "cell_type": "markdown",
   "metadata": {},
   "source": [
    "# String Methods\n",
    "  - split()\n",
    "  - replace()\n",
    "  - join()"
   ]
  },
  {
   "cell_type": "code",
   "execution_count": 6,
   "metadata": {},
   "outputs": [
    {
     "name": "stdout",
     "output_type": "stream",
     "text": [
      "['Python', 'Programming', 'Learn', 'Made', 'Easy']\n",
      "['Python Progr', 'mming Le', 'rn M', 'de E', 'sy']\n",
      "Python Programming learn Made Easy\n",
      "P-y-t-h-o-n- -P-r-o-g-r-a-m-m-i-n-g- -L-e-a-r-n- -M-a-d-e- -E-a-s-y\n"
     ]
    }
   ],
   "source": [
    "s1 = \"Python Programming Learn Made Easy\"\n",
    "li = s1.split()\n",
    "l = s1.split('a')\n",
    "print(li)\n",
    "print(l)\n",
    "print(s1.replace('L','l'))\n",
    "print('-'.join(s1))"
   ]
  },
  {
   "cell_type": "markdown",
   "metadata": {},
   "source": [
    "# String Formatting\n",
    " - Classic Version\n",
    " - Current Version Python"
   ]
  },
  {
   "cell_type": "code",
   "execution_count": 11,
   "metadata": {},
   "outputs": [
    {
     "name": "stdout",
     "output_type": "stream",
     "text": [
      "Python Programming\n",
      "1 2 3 4 5\n"
     ]
    }
   ],
   "source": [
    "# Classic Version(c or c++)\n",
    "\n",
    "li = [\"Python\",\"Programming\"]\n",
    "print('%s %s' % (li[0],li[1]))\n",
    "\n",
    "l = [1,2,3,4,5]\n",
    "print('%d %d %d %d %d' % (l[0],l[1],l[2],l[3],l[4]))"
   ]
  },
  {
   "cell_type": "code",
   "execution_count": 12,
   "metadata": {},
   "outputs": [
    {
     "name": "stdout",
     "output_type": "stream",
     "text": [
      "List of items : Python  Programming\n"
     ]
    }
   ],
   "source": [
    "# format \n",
    "l=['Python ','Programming']\n",
    "print('List of items : {0} {1}'.format(l[0],l[1]))"
   ]
  },
  {
   "cell_type": "markdown",
   "metadata": {},
   "source": [
    "# Data structures \n",
    " - List\n",
    " - Tuples\n",
    " - Dictionaries"
   ]
  },
  {
   "cell_type": "markdown",
   "metadata": {},
   "source": [
    "## Dictionaries\n",
    " - It Works on concept of Unique Data\n",
    " - Key,Value is the unque Identifier a value\n",
    " - Each key is separated from value colon(:)\n",
    " - Dictionaries re enclosed with Curly brackets{}"
   ]
  },
  {
   "cell_type": "code",
   "execution_count": 13,
   "metadata": {},
   "outputs": [
    {
     "name": "stdout",
     "output_type": "stream",
     "text": [
      "{'name': 'sunnna', 'EmailID': 'jhsadu@gmail.com', 'adress': 'cheppanu'}\n"
     ]
    }
   ],
   "source": [
    "d1 = {\"name\":\"sunnna\",\"EmailID\":\"jhsadu@gmail.com\",\"adress\":\"cheppanu\"}\n",
    "print(d1)"
   ]
  },
  {
   "cell_type": "code",
   "execution_count": 14,
   "metadata": {},
   "outputs": [
    {
     "data": {
      "text/plain": [
       "'jhsadu@gmail.com'"
      ]
     },
     "execution_count": 14,
     "metadata": {},
     "output_type": "execute_result"
    }
   ],
   "source": [
    "d1[\"EmailID\"]"
   ]
  },
  {
   "cell_type": "code",
   "execution_count": 15,
   "metadata": {},
   "outputs": [],
   "source": [
    "d1[\"EmailID\"] = \"ssssss@hotmail.com\""
   ]
  },
  {
   "cell_type": "code",
   "execution_count": 16,
   "metadata": {},
   "outputs": [
    {
     "data": {
      "text/plain": [
       "'ssssss@hotmail.com'"
      ]
     },
     "execution_count": 16,
     "metadata": {},
     "output_type": "execute_result"
    }
   ],
   "source": [
    "d1[\"EmailID\"]"
   ]
  },
  {
   "cell_type": "code",
   "execution_count": 17,
   "metadata": {},
   "outputs": [
    {
     "data": {
      "text/plain": [
       "dict_keys(['name', 'EmailID', 'adress'])"
      ]
     },
     "execution_count": 17,
     "metadata": {},
     "output_type": "execute_result"
    }
   ],
   "source": [
    "d1.keys() # all the keys of dic object"
   ]
  },
  {
   "cell_type": "code",
   "execution_count": 18,
   "metadata": {},
   "outputs": [
    {
     "data": {
      "text/plain": [
       "dict_values(['sunnna', 'ssssss@hotmail.com', 'cheppanu'])"
      ]
     },
     "execution_count": 18,
     "metadata": {},
     "output_type": "execute_result"
    }
   ],
   "source": [
    "d1.values() # all the values of dic object\n"
   ]
  },
  {
   "cell_type": "code",
   "execution_count": null,
   "metadata": {},
   "outputs": [],
   "source": [
    "del d1[\"EmailID\"] # Only deltes one key and value"
   ]
  },
  {
   "cell_type": "code",
   "execution_count": 21,
   "metadata": {},
   "outputs": [
    {
     "data": {
      "text/plain": [
       "{'name': 'sunnna', 'adress': 'cheppanu'}"
      ]
     },
     "execution_count": 21,
     "metadata": {},
     "output_type": "execute_result"
    }
   ],
   "source": [
    "d1"
   ]
  },
  {
   "cell_type": "code",
   "execution_count": 24,
   "metadata": {},
   "outputs": [
    {
     "ename": "NameError",
     "evalue": "name 'd1' is not defined",
     "output_type": "error",
     "traceback": [
      "\u001b[1;31m---------------------------------------------------------------------------\u001b[0m",
      "\u001b[1;31mNameError\u001b[0m                                 Traceback (most recent call last)",
      "\u001b[1;32m<ipython-input-24-db10cd28a397>\u001b[0m in \u001b[0;36m<module>\u001b[1;34m\u001b[0m\n\u001b[1;32m----> 1\u001b[1;33m \u001b[1;32mdel\u001b[0m \u001b[0md1\u001b[0m\u001b[1;33m\u001b[0m\u001b[1;33m\u001b[0m\u001b[0m\n\u001b[0m",
      "\u001b[1;31mNameError\u001b[0m: name 'd1' is not defined"
     ]
    }
   ],
   "source": [
    "del d1"
   ]
  },
  {
   "cell_type": "markdown",
   "metadata": {},
   "source": [
    "### Contact Application\n",
    "  - Add Contact Details\n",
    "  - Search the contact details"
   ]
  },
  {
   "cell_type": "code",
   "execution_count": 26,
   "metadata": {},
   "outputs": [
    {
     "name": "stdout",
     "output_type": "stream",
     "text": [
      "added contact successfully\n",
      "added contact successfully\n",
      "added contact successfully\n",
      "name is already exists\n"
     ]
    }
   ],
   "source": [
    "contacts = {} # Empty Dict object\n",
    "# let us create a function to add Contact Details\n",
    " \n",
    "def addcontact(name,phone):\n",
    "    if name not in contacts: # cond to check name is exists are not\n",
    "        contacts[name] = phone\n",
    "        print('added contact successfully')\n",
    "    else:\n",
    "        print('name is already exists')\n",
    "    return\n",
    "addcontact('sunta','445644732648762')\n",
    "addcontact('pappa','53675372')\n",
    "addcontact('wastega','22525557')\n",
    "addcontact('pappa','73464276723')"
   ]
  },
  {
   "cell_type": "code",
   "execution_count": 27,
   "metadata": {},
   "outputs": [
    {
     "name": "stdout",
     "output_type": "stream",
     "text": [
      "pappa  :  53675372\n",
      "pappa doesnt found\n",
      "sunta  :  445644732648762\n",
      "sunta doesnt found\n",
      "wastega  :  22525557\n",
      "wastega doesnt found\n"
     ]
    }
   ],
   "source": [
    "def searchcontact(name):\n",
    "    if name in contacts:\n",
    "        print(name,\" : \",contacts[name])\n",
    "    return print('%s doesnt found' % name)\n",
    "searchcontact('pappa')\n",
    "searchcontact('sunta')\n",
    "searchcontact('wastega')"
   ]
  },
  {
   "cell_type": "code",
   "execution_count": 29,
   "metadata": {},
   "outputs": [
    {
     "name": "stdout",
     "output_type": "stream",
     "text": [
      "2 contacts are added\n"
     ]
    }
   ],
   "source": [
    "# import new contact details\n",
    "# Merge the privious details with new details\n",
    "\n",
    "def importcontacts(newcontacts):\n",
    "    contacts.update(newcontacts)\n",
    "    print(len(newcontacts.keys()),'contacts are added')\n",
    "    return\n",
    "newcontacts = {'sdfd': 26246326,'audawu':4268268568}\n",
    "importcontacts(newcontacts)"
   ]
  },
  {
   "cell_type": "code",
   "execution_count": 30,
   "metadata": {},
   "outputs": [
    {
     "data": {
      "text/plain": [
       "{'sunta': '445644732648762',\n",
       " 'pappa': '53675372',\n",
       " 'wastega': '22525557',\n",
       " 'sdfd': 26246326,\n",
       " 'audawu': 4268268568}"
      ]
     },
     "execution_count": 30,
     "metadata": {},
     "output_type": "execute_result"
    }
   ],
   "source": [
    "contacts"
   ]
  },
  {
   "cell_type": "code",
   "execution_count": 32,
   "metadata": {},
   "outputs": [
    {
     "name": "stdout",
     "output_type": "stream",
     "text": [
      "wastega updated successfully\n",
      "sahak not exists\n"
     ]
    }
   ],
   "source": [
    "def modifycontact(name,phone):\n",
    "    if name in contacts:\n",
    "        contacts[name] = phone\n",
    "        print(name,'updated successfully')\n",
    "    else:\n",
    "        print(name,'not exists')\n",
    "    return\n",
    "modifycontact('wastega',2368328587)\n",
    "modifycontact('sahak',8387762)"
   ]
  },
  {
   "cell_type": "code",
   "execution_count": 36,
   "metadata": {},
   "outputs": [
    {
     "name": "stdout",
     "output_type": "stream",
     "text": [
      "hhdgd ledu bhaiyya\n",
      "pappa ledu bhaiyya\n"
     ]
    }
   ],
   "source": [
    "def deletecontact(name):\n",
    "    if name in contacts:\n",
    "        del contacts[name]\n",
    "        print(name,'deleted bey')\n",
    "    else:\n",
    "        print(name,'ledu bhaiyya')\n",
    "deletecontact('hhdgd')\n",
    "deletecontact('pappa')"
   ]
  },
  {
   "cell_type": "code",
   "execution_count": 37,
   "metadata": {},
   "outputs": [
    {
     "data": {
      "text/plain": [
       "{'sunta': '445644732648762',\n",
       " 'wastega': 2368328587,\n",
       " 'sdfd': 26246326,\n",
       " 'audawu': 4268268568}"
      ]
     },
     "execution_count": 37,
     "metadata": {},
     "output_type": "execute_result"
    }
   ],
   "source": [
    "contacts"
   ]
  },
  {
   "cell_type": "markdown",
   "metadata": {},
   "source": [
    "# Tuples\n",
    "  - Tuples enclosed with parenthsis()\n",
    "# Differences between Tuples and List\n",
    "  - List are mjutabble -- can be chnged / modified\n",
    "  - Tuples are immutable -- can'tbe changed / modified"
   ]
  },
  {
   "cell_type": "code",
   "execution_count": 38,
   "metadata": {},
   "outputs": [
    {
     "name": "stdout",
     "output_type": "stream",
     "text": [
      "{1, 2, 3, 4, 5}\n"
     ]
    }
   ],
   "source": [
    "t1 = {1,2,3,4,5}\n",
    "print(t1)"
   ]
  },
  {
   "cell_type": "markdown",
   "metadata": {},
   "source": [
    "## Standard libraries\n",
    "  - Regular Expression\n",
    "    - To Validate the Indian Mobile\n",
    "    - To validate the Emailid\n",
    "    - To validate thusername\n",
    "    - To validate the password  \n",
    "  - Understanding the regular Expressions\n",
    "    - [0-9] -- Any digit matching\n",
    "    - [a-z] -- Any lowercase matching\n",
    "    - [A-Z] -- Any uppercase matching\n",
    "    - cap Symbol is used to represent the start of a Regular expression\n",
    "    - "
   ]
  },
  {
   "cell_type": "code",
   "execution_count": 41,
   "metadata": {},
   "outputs": [
    {
     "name": "stdout",
     "output_type": "stream",
     "text": [
      "True\n",
      "False\n"
     ]
    }
   ],
   "source": [
    "# Function to test the two digit number as input\n",
    "# True -- Input two diigit number\n",
    "# False -- Input not a two digit number\n",
    "import re\n",
    "def istwo(n):\n",
    "    pattern = '^[0-9]{2}$'\n",
    "    n=str(n)\n",
    "    if re.match(pattern,n):\n",
    "        return True\n",
    "    return False\n",
    "print(istwo(43))\n",
    "print(istwo(999))"
   ]
  },
  {
   "cell_type": "code",
   "execution_count": 43,
   "metadata": {},
   "outputs": [
    {
     "name": "stdout",
     "output_type": "stream",
     "text": [
      "True\n",
      "False\n"
     ]
    }
   ],
   "source": [
    "# regular expression for username\n",
    "# Username must contain both uppercase and lowercase characters\n",
    "# Lenngth --  min 5 max 12\n",
    "\n",
    "\n",
    "def validateuser(s):\n",
    "    pattern = '^[a-zA-Z]{5,12}$'\n",
    "    if re.match(pattern,s):\n",
    "        return True\n",
    "    return False\n",
    "print(validateuser('sunta'))\n",
    "print(validateuser('hjugewhegfyuw'))"
   ]
  },
  {
   "cell_type": "markdown",
   "metadata": {},
   "source": [
    "# Regular Expression\n",
    "  - Regular Expression for rollnumber\n",
    "     - Ex : 1521A0501  #Valid\n",
    "     - Ex : 1621A0574  #not Valid\n",
    "  - Regular Expression for password\n",
    "     - parameters : length "
   ]
  },
  {
   "cell_type": "markdown",
   "metadata": {},
   "source": [
    "# Regular Expression for Indian Mobile Number\n",
    "- 10 Digit Number\n",
    "    - First number starts from [6-9]\n",
    "    - Remaining numbers are in between [0-9]\n",
    "      - Ex: 9989375635 #True\n",
    "      - Ex: 5564345687 #False\n",
    "- 11 Digit Number\n",
    "    - First number should be 0\n",
    "    - Second number can be [6-9]\n",
    "    - Rest of the 9 numbers are in between [0-9]\n",
    "      - Ex: 098573650213 #True\n",
    "      - Ex: 983432144382 #False\n",
    "- 13 Digit Number\n",
    "    - First number should be +\n",
    "    - Second number should be 9\n",
    "    - Third number should be 1\n",
    "    - Fourth number can be [6-9]\n",
    "    - Remaining numbers can be [0-9]\n",
    "        - Ex: +919948562257 #True\n",
    "        - Ex: +915502386745 #False"
   ]
  },
  {
   "cell_type": "code",
   "execution_count": null,
   "metadata": {},
   "outputs": [],
   "source": [
    "# Rule 1 --> ^[6-9][0-9]{9}$\n",
    "# Rule 2 --> ^[0][6-9][0-9]{9}$\n",
    "# Rule 3 --> ^[+][9][1][6-9][0-9]{9}"
   ]
  },
  {
   "cell_type": "code",
   "execution_count": 1,
   "metadata": {},
   "outputs": [
    {
     "data": {
      "text/plain": [
       "False"
      ]
     },
     "execution_count": 1,
     "metadata": {},
     "output_type": "execute_result"
    }
   ],
   "source": [
    "import re\n",
    "def val(n):\n",
    "    pattern = '^[6-9][0-9]{9}$|^[0][6-9][0-9]{9}$|[+][9][1][6-9][0-9]{9}$'\n",
    "    n = str(n)\n",
    "    if re.match(pattern,n):\n",
    "        return True\n",
    "    return False\n",
    "val(+919929475637)"
   ]
  },
  {
   "cell_type": "markdown",
   "metadata": {},
   "source": [
    "# Validate the Email Id \n",
    "    - Ex : username@domainName.extension\n",
    "    - Ex : uniqlo@gmail.com\n",
    "- Username :\n",
    "    - Length of string will be [6-15]\n",
    "    - No special characters usage allowed except '_ and .'\n",
    "    - Username should not begin with an '_ or .'\n",
    "    - All characters set Digits, lowercase and uppercases can be used\n",
    "        - Ex: Abc_101\n",
    "- Domain name :\n",
    "    - Length of string will be [3-18]\n",
    "    - No special characters can be used\n",
    "    - Character sets will be Digits, lowercase and uppercase\n",
    "         - Ex: gmail, hotmail, yahoo\n",
    "- Extensions :\n",
    "    - Length of string will be [2-4]\n",
    "    - No special characters usage is alowed\n",
    "    - Character set is lowercase letters only\n",
    "        - Ex: com, us, in, eu, nz"
   ]
  },
  {
   "cell_type": "code",
   "execution_count": 3,
   "metadata": {},
   "outputs": [],
   "source": [
    "\n",
    "# Username    RE : [0-9a-zA-Z][0-9a-zA-Z_.]{5,14}\n",
    "# Domain Name RE : [a-z0-9]{3,18}\n",
    "# Extension   RE : [a-z]{2,4}\n",
    "# Email ID    RE : ^[0-9a-zA-Z][0-9a-zA-Z._]{5,14}[@][a-z]{3,18}[.][a-z]{2,4}$\n"
   ]
  },
  {
   "cell_type": "code",
   "execution_count": 4,
   "metadata": {},
   "outputs": [
    {
     "data": {
      "text/plain": [
       "True"
      ]
     },
     "execution_count": 4,
     "metadata": {},
     "output_type": "execute_result"
    }
   ],
   "source": [
    "\n",
    "def emval(email): \n",
    "    pattern = '^[0-9a-zA-Z][0-9a-zA-Z._]{5,14}[@][a-z]{3,18}[.][a-z]{2,4}$'\n",
    "    if re.match(pattern,email):\n",
    "        return True\n",
    "    return False\n",
    "emval('srikar.wall69@gmail.com')\n"
   ]
  },
  {
   "cell_type": "code",
   "execution_count": 2,
   "metadata": {},
   "outputs": [],
   "source": [
    "# User RE : [0-9a-zA-Z][0-9a-zA-Z_.]{5,14}\n",
    "# Domain Name RE : [a-z0-9]{3,18}\n",
    "# Extension  RE: [a-z]{2,4}\n",
    "# EmailID RE : ^[0-9a-zA-Z][0-9a-zA-Z_.]{5,14}[@][a-0-9]{3,18}[.][a-z]{2,4}$"
   ]
  },
  {
   "cell_type": "code",
   "execution_count": 5,
   "metadata": {},
   "outputs": [
    {
     "data": {
      "text/plain": [
       "True"
      ]
     },
     "execution_count": 5,
     "metadata": {},
     "output_type": "execute_result"
    }
   ],
   "source": [
    "def emval(email):\n",
    "    pattern = '^[0-9a-zA-Z][0-9a-zA-Z._]{5,14}[@][a-z]{3,18}[.][a-z]{2,4}$'\n",
    "    if re.match(pattern,email):\n",
    "        return True\n",
    "    return False\n",
    "emval('srikar.wall69@gmail.com')\n"
   ]
  },
  {
   "cell_type": "markdown",
   "metadata": {},
   "source": [
    "# Python Grahics\n",
    "  - Lib - turtle"
   ]
  },
  {
   "cell_type": "markdown",
   "metadata": {},
   "source": [
    "### Package,Module and Sub Package\n",
    "#### Package\n",
    "    - A collection of Modules(Single Python file . py)\n",
    "    \n",
    "#### Module\n",
    "    - A single Python file contains group of functionn"
   ]
  },
  {
   "cell_type": "code",
   "execution_count": 6,
   "metadata": {},
   "outputs": [
    {
     "data": {
      "text/plain": [
       "123"
      ]
     },
     "execution_count": 6,
     "metadata": {},
     "output_type": "execute_result"
    }
   ],
   "source": [
    "import math # importsall the function into Python Program\n",
    "math.floor(123.456)"
   ]
  },
  {
   "cell_type": "code",
   "execution_count": 7,
   "metadata": {},
   "outputs": [
    {
     "data": {
      "text/plain": [
       "124"
      ]
     },
     "execution_count": 7,
     "metadata": {},
     "output_type": "execute_result"
    }
   ],
   "source": [
    "math.ceil(123.456)"
   ]
  },
  {
   "cell_type": "code",
   "execution_count": 8,
   "metadata": {},
   "outputs": [
    {
     "data": {
      "text/plain": [
       "3628800"
      ]
     },
     "execution_count": 8,
     "metadata": {},
     "output_type": "execute_result"
    }
   ],
   "source": [
    "from math import factorial as fact # will imports only specific function \n",
    "# as fact alias name\n",
    "fact(10)"
   ]
  },
  {
   "cell_type": "code",
   "execution_count": 9,
   "metadata": {},
   "outputs": [
    {
     "data": {
      "text/plain": [
       "5"
      ]
     },
     "execution_count": 9,
     "metadata": {},
     "output_type": "execute_result"
    }
   ],
   "source": [
    "from math import gcd as gcd\n",
    "gcd(10,15)"
   ]
  },
  {
   "cell_type": "code",
   "execution_count": 12,
   "metadata": {},
   "outputs": [
    {
     "name": "stdout",
     "output_type": "stream",
     "text": [
      "87 54 4 99 17 16 65 17 69 4 "
     ]
    }
   ],
   "source": [
    "# import random package \n",
    "import random\n",
    "# function to generate the N numbers in given range\n",
    "def generaterandomnum(n,lb,ub):\n",
    "    for i in range(0,n):\n",
    "        print(random.randint(lb,ub),end=' ')\n",
    "    return\n",
    "generaterandomnum(10,0,100)"
   ]
  },
  {
   "cell_type": "code",
   "execution_count": null,
   "metadata": {},
   "outputs": [],
   "source": []
  },
  {
   "cell_type": "code",
   "execution_count": null,
   "metadata": {},
   "outputs": [],
   "source": []
  },
  {
   "cell_type": "code",
   "execution_count": null,
   "metadata": {},
   "outputs": [],
   "source": []
  }
 ],
 "metadata": {
  "kernelspec": {
   "display_name": "Python 3",
   "language": "python",
   "name": "python3"
  },
  "language_info": {
   "codemirror_mode": {
    "name": "ipython",
    "version": 3
   },
   "file_extension": ".py",
   "mimetype": "text/x-python",
   "name": "python",
   "nbconvert_exporter": "python",
   "pygments_lexer": "ipython3",
   "version": "3.7.3"
  }
 },
 "nbformat": 4,
 "nbformat_minor": 2
}
