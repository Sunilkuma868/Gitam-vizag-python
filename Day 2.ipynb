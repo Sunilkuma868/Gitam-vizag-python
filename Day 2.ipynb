{
 "cells": [
  {
   "cell_type": "markdown",
   "metadata": {},
   "source": [
    "# control statements"
   ]
  },
  {
   "cell_type": "code",
   "execution_count": 2,
   "metadata": {},
   "outputs": [
    {
     "name": "stdout",
     "output_type": "stream",
     "text": [
      "2019\n",
      "not leap year\n"
     ]
    }
   ],
   "source": [
    "# check the input is leap year or not\n",
    "year = int(input(''))\n",
    "if year % 400 == 0 or (year %100 != 0 and year % 4 == 0):\n",
    "    print('leap year')\n",
    "else:\n",
    "        print('not leap year')"
   ]
  },
  {
   "cell_type": "code",
   "execution_count": 1,
   "metadata": {},
   "outputs": [
    {
     "name": "stdout",
     "output_type": "stream",
     "text": [
      "enter a number : 5\n",
      "12345"
     ]
    }
   ],
   "source": [
    "# print numbers from 1 to n\n",
    "# input : 10\n",
    "# output : 1 2 3 4  .....10\n",
    "n = int(input('enter a number : '))\n",
    "i = 1\n",
    "while i <= n:\n",
    "    print(i,end=\"\")\n",
    "    i = i+1"
   ]
  },
  {
   "cell_type": "code",
   "execution_count": 2,
   "metadata": {},
   "outputs": [
    {
     "name": "stdout",
     "output_type": "stream",
     "text": [
      "300\n",
      "22650\n"
     ]
    }
   ],
   "source": [
    "# read a number as input\n",
    "# output as only even numbers sum from 1 to n\n",
    "# input=10\n",
    "#output=30(2,4,6,8,10)\n",
    "n = int(input(''))\n",
    "i = 1\n",
    "a=0\n",
    "while i<=n:\n",
    "    if i%2==0:\n",
    "        a=a+i\n",
    "    i=i+1\n",
    "print(a)"
   ]
  },
  {
   "cell_type": "code",
   "execution_count": 3,
   "metadata": {},
   "outputs": [
    {
     "name": "stdout",
     "output_type": "stream",
     "text": [
      "1234\n",
      "4321"
     ]
    }
   ],
   "source": [
    "# read a number as input\n",
    "#output has to be digits of the number\n",
    "\n",
    "\n",
    "n=int(input(''))\n",
    "while n!=0:\n",
    "    print(n%10,end='')\n",
    "    n=n//10"
   ]
  },
  {
   "cell_type": "markdown",
   "metadata": {},
   "source": [
    "# functional programing\n",
    "  - Simple\n",
    "  - Easy understand\n",
    "  - Better Reusability\n",
    "  - Lengthy program can be divided into subprograms"
   ]
  },
  {
   "cell_type": "markdown",
   "metadata": {},
   "source": [
    "# Syntax\n",
    "   - def nameofthefunction(parameters)\n",
    "   - Statements\n",
    "   - Return"
   ]
  },
  {
   "cell_type": "code",
   "execution_count": 6,
   "metadata": {},
   "outputs": [
    {
     "data": {
      "text/plain": [
       "6"
      ]
     },
     "execution_count": 6,
     "metadata": {},
     "output_type": "execute_result"
    }
   ],
   "source": [
    "# read a number and print the even digit sum from the number\n",
    "def evenDigitSum(n):\n",
    "    s=0\n",
    "    while n !=0:\n",
    "        r=n%10\n",
    "        if r%2==0:\n",
    "            s=s+r\n",
    "        n=n//10\n",
    "    return s\n",
    "evenDigitSum(1234)"
   ]
  },
  {
   "cell_type": "code",
   "execution_count": 16,
   "metadata": {},
   "outputs": [
    {
     "data": {
      "text/plain": [
       "9"
      ]
     },
     "execution_count": 16,
     "metadata": {},
     "output_type": "execute_result"
    }
   ],
   "source": [
    "# input : 19535\n",
    "# output :9(large digit of the given number)\n",
    "# functional programming\n",
    "\n",
    "def largeDigit(n):\n",
    "    a=0\n",
    "    while n!=0:\n",
    "        x=n % 10\n",
    "        if x > a:\n",
    "            a=x\n",
    "        n=n // 10\n",
    "    return (a)\n",
    "largeDigit(919535)"
   ]
  },
  {
   "cell_type": "code",
   "execution_count": 19,
   "metadata": {},
   "outputs": [
    {
     "name": "stdout",
     "output_type": "stream",
     "text": [
      "yes\n",
      "no\n"
     ]
    }
   ],
   "source": [
    "# read a number as input\n",
    "# output yes or no\n",
    "\n",
    "# input : 145\n",
    "# output : yes\n",
    "\n",
    "#input : 123\n",
    "# output : no\n",
    "\n",
    "\n",
    "def factorial(n):\n",
    "    fact=1\n",
    "    i=1\n",
    "    while i<=n:\n",
    "        fact=fact*i\n",
    "        i=i+1\n",
    "    return fact\n",
    "\n",
    "\n",
    "def  DigitFactSum(n):\n",
    "    s=0\n",
    "    buffer = n\n",
    "    while n != 0:\n",
    "        r=n%10\n",
    "        s+=factorial(r)\n",
    "        n=n // 10\n",
    "    if buffer == s:\n",
    "        return \"yes\"\n",
    "    else:\n",
    "        return \"no\"\n",
    "    return\n",
    "\n",
    "print(DigitFactSum(145))\n",
    "print(DigitFactSum(123))\n",
    "    "
   ]
  },
  {
   "cell_type": "code",
   "execution_count": 29,
   "metadata": {},
   "outputs": [
    {
     "name": "stdout",
     "output_type": "stream",
     "text": [
      "kaadu bey\n"
     ]
    }
   ],
   "source": [
    "#read a number as input\n",
    "# ouput as Palindrome or not a Palindrome\n",
    "\n",
    "\n",
    "# input :123\n",
    "# output :not a palindrome\n",
    "\n",
    "# input : 121\n",
    "# output : Palindrome\n",
    "\n",
    "\n",
    "def palin(a):\n",
    "    b=a\n",
    "    x=0\n",
    "    while a!=0:\n",
    "        x=(x+(a%10))*10\n",
    "        a=a//10\n",
    "    x=x//10\n",
    "    if x==b:\n",
    "        print('avnu ra')\n",
    "    else:\n",
    "        print('kaadu bey')\n",
    "palin(12)        "
   ]
  },
  {
   "cell_type": "code",
   "execution_count": 28,
   "metadata": {},
   "outputs": [
    {
     "name": "stdout",
     "output_type": "stream",
     "text": [
      "11 ,12 ,13 ,14 ,15 ,16 ,17 ,18 ,19 ,20 ,21 ,22 ,23 ,24 ,25 ,"
     ]
    }
   ],
   "source": [
    "# Function to print the number between two limits\n",
    "# input : 11 25\n",
    "# 11 12 13 14 ..........25\n",
    "\n",
    "\n",
    "def ranger(x,y):\n",
    "    for n in range(x,y+1):\n",
    "        print(n,end=' ,')\n",
    "    return\n",
    "ranger(11,25)"
   ]
  },
  {
   "cell_type": "code",
   "execution_count": 32,
   "metadata": {},
   "outputs": [
    {
     "name": "stdout",
     "output_type": "stream",
     "text": [
      "500 501 502 503 504 505 506 507 508 509 510 511 512 513 514 515 516 517 518 519 520 521 522 523 524 525 526 527 528 529 530 531 532 533 534 535 536 537 538 539 540 541 542 543 544 545 546 547 548 549 550 551 552 553 554 555 556 557 558 559 560 561 562 563 564 565 566 567 568 569 570 571 572 573 574 575 576 577 578 579 580 581 582 583 584 585 586 587 588 589 590 591 592 593 594 595 596 597 598 599 600 601 602 603 604 605 606 607 608 609 610 611 612 613 614 615 616 617 618 619 620 621 622 623 624 625 626 627 628 629 630 631 632 633 634 635 636 637 638 639 640 641 642 643 644 645 646 647 648 649 650 651 652 653 654 655 656 657 658 659 660 661 662 663 664 665 666 667 668 669 670 671 672 673 674 675 676 677 678 679 680 681 682 683 684 685 686 687 688 689 690 691 692 693 694 695 696 697 698 699 700 "
     ]
    }
   ],
   "source": [
    "# function to print the alternate number\n",
    "# [500,520] -- 500 502 504 506 .......520\n",
    "#[100,140]-- 100 104 108 112 .....140\n",
    "\n",
    "def alternatenumbers(x,y):\n",
    "    for n in range(x,y+1,1):\n",
    "        print(n,end=' ')\n",
    "    return\n",
    "alternatenumbers(500,700)\n"
   ]
  },
  {
   "cell_type": "code",
   "execution_count": null,
   "metadata": {},
   "outputs": [],
   "source": []
  },
  {
   "cell_type": "code",
   "execution_count": null,
   "metadata": {},
   "outputs": [],
   "source": []
  },
  {
   "cell_type": "code",
   "execution_count": null,
   "metadata": {},
   "outputs": [],
   "source": []
  },
  {
   "cell_type": "code",
   "execution_count": null,
   "metadata": {},
   "outputs": [],
   "source": []
  }
 ],
 "metadata": {
  "kernelspec": {
   "display_name": "Python 3",
   "language": "python",
   "name": "python3"
  },
  "language_info": {
   "codemirror_mode": {
    "name": "ipython",
    "version": 3
   },
   "file_extension": ".py",
   "mimetype": "text/x-python",
   "name": "python",
   "nbconvert_exporter": "python",
   "pygments_lexer": "ipython3",
   "version": "3.7.3"
  }
 },
 "nbformat": 4,
 "nbformat_minor": 2
}
